{
 "cells": [
  {
   "cell_type": "markdown",
   "metadata": {},
   "source": [
    "# Создаем классификатор"
   ]
  },
  {
   "cell_type": "code",
   "execution_count": 1,
   "metadata": {},
   "outputs": [],
   "source": [
    "import warnings\n",
    "warnings.filterwarnings('ignore')\n",
    "from lxml import etree\n",
    "import numpy as np\n",
    "import pandas as pd\n",
    "import re\n",
    "import matplotlib.pyplot as plt\n",
    "import collections\n",
    "%matplotlib inline"
   ]
  },
  {
   "cell_type": "code",
   "execution_count": 2,
   "metadata": {},
   "outputs": [],
   "source": [
    "# Загружаем обучающий файл\n",
    "train_data = pd.read_csv('train.csv', sep = ',')"
   ]
  },
  {
   "cell_type": "code",
   "execution_count": 3,
   "metadata": {},
   "outputs": [],
   "source": [
    "# Достаем нужные значения \n",
    "title = train_data['title'].values\n",
    "price = train_data['price'].values\n",
    "categories = train_data['category_id'].values"
   ]
  },
  {
   "cell_type": "code",
   "execution_count": 4,
   "metadata": {},
   "outputs": [],
   "source": [
    "# Определяем обучающие и тестовые даннные\n",
    "from sklearn.model_selection import train_test_split\n",
    "titles_train, titles_test, prices_train, prices_test, id_train, id_test = train_test_split(title, price, categories, test_size=0.33, random_state=42)"
   ]
  },
  {
   "cell_type": "code",
   "execution_count": 5,
   "metadata": {},
   "outputs": [],
   "source": [
    "#Классификатор на основе текстовой информации\n",
    "from sklearn.feature_extraction.text import CountVectorizer, TfidfVectorizer\n",
    "from sklearn.linear_model import LogisticRegression\n",
    "from sklearn.pipeline import Pipeline\n",
    "\n",
    "# Создаем модель и преобразовываем исходный набор данных\n",
    "# Конвертируем набор текстов в матрицу токенов, находящихся в тексте с помощью CountVectorizer()\n",
    "# Так как наши прогнозы будут дискретны, применим LogisticRegression()\n",
    "pipeline = Pipeline([\n",
    "    ('vect', CountVectorizer()),\n",
    "    ('algo', LogisticRegression(penalty='l1', C=17))\n",
    "])"
   ]
  },
  {
   "cell_type": "code",
   "execution_count": 6,
   "metadata": {},
   "outputs": [
    {
     "data": {
      "text/plain": [
       "Pipeline(memory=None,\n",
       "     steps=[('vect', CountVectorizer(analyzer='word', binary=False, decode_error='strict',\n",
       "        dtype=<class 'numpy.int64'>, encoding='utf-8', input='content',\n",
       "        lowercase=True, max_df=1.0, max_features=None, min_df=1,\n",
       "        ngram_range=(1, 1), preprocessor=None, stop_words=None,\n",
       "        strip...penalty='l1', random_state=None, solver='warn',\n",
       "          tol=0.0001, verbose=0, warm_start=False))])"
      ]
     },
     "execution_count": 6,
     "metadata": {},
     "output_type": "execute_result"
    }
   ],
   "source": [
    "# Обучаем модель\n",
    "pipeline.fit(titles_train, id_train)"
   ]
  },
  {
   "cell_type": "code",
   "execution_count": 7,
   "metadata": {},
   "outputs": [
    {
     "data": {
      "text/plain": [
       "RandomForestClassifier(bootstrap=True, class_weight=None, criterion='gini',\n",
       "            max_depth=None, max_features='auto', max_leaf_nodes=None,\n",
       "            min_impurity_decrease=0.0, min_impurity_split=None,\n",
       "            min_samples_leaf=1, min_samples_split=2,\n",
       "            min_weight_fraction_leaf=0.0, n_estimators=50, n_jobs=-1,\n",
       "            oob_score=False, random_state=None, verbose=0,\n",
       "            warm_start=False)"
      ]
     },
     "execution_count": 7,
     "metadata": {},
     "output_type": "execute_result"
    }
   ],
   "source": [
    "# Классификатор на основе числовой информации\n",
    "from sklearn.ensemble import RandomForestClassifier\n",
    "\n",
    "# Создаем модель \n",
    "randomforest = RandomForestClassifier(n_estimators = 50, n_jobs=-1)\n",
    "\n",
    "# Обучаем модель\n",
    "randomforest.fit(prices_train.reshape(-1,1), id_train)"
   ]
  },
  {
   "cell_type": "markdown",
   "metadata": {},
   "source": [
    "## Оценка качества модели (Accuracy)"
   ]
  },
  {
   "cell_type": "code",
   "execution_count": 8,
   "metadata": {},
   "outputs": [
    {
     "name": "stdout",
     "output_type": "stream",
     "text": [
      "Test Accuracy: 0.8351440191654131\n"
     ]
    }
   ],
   "source": [
    "from sklearn.metrics import accuracy_score\n",
    "\n",
    "# Применяем нашу модель на тестовых данных\n",
    "predict_price = randomforest.predict_proba(prices_test.reshape(-1,1)) \n",
    "predict_title = pipeline.predict_proba(titles_test)\n",
    "predict_proba = predict_price + 3*predict_title\n",
    "\n",
    "prediction = [np.argmax(predict_proba[i]) for i in range(0, predict_proba.shape[0])]\n",
    "print('Test Accuracy:', accuracy_score(prediction, id_test))"
   ]
  },
  {
   "cell_type": "markdown",
   "metadata": {},
   "source": [
    "# Подсчет Accuracy для каждого уровня иерархии"
   ]
  },
  {
   "cell_type": "code",
   "execution_count": 9,
   "metadata": {},
   "outputs": [],
   "source": [
    "category_data = pd.read_csv('category.csv', sep = ',')"
   ]
  },
  {
   "cell_type": "code",
   "execution_count": 10,
   "metadata": {},
   "outputs": [
    {
     "name": "stdout",
     "output_type": "stream",
     "text": [
      "Test Accuracy: 0.9318563089246693\n"
     ]
    }
   ],
   "source": [
    "category_list = [(category_data['name'][i].split('|')[0]) for i in range(0,len(category_data))]\n",
    "\n",
    "category_predict =  [category_list[prediction[i]] for i in range(len(prediction))]\n",
    "catategiry_id_test = [category_list[id_test[i]] for i in range(len(id_test))]\n",
    "print('Test Accuracy:', accuracy_score(category_predict, catategiry_id_test))"
   ]
  },
  {
   "cell_type": "code",
   "execution_count": 11,
   "metadata": {},
   "outputs": [
    {
     "name": "stdout",
     "output_type": "stream",
     "text": [
      "Test Accuracy: 0.8988739700757084\n"
     ]
    }
   ],
   "source": [
    "category_list2 = [(category_data['name'][i].split('|')[1]) for i in range(0,len(category_data))]\n",
    "\n",
    "category_predict =  [category_list2[prediction[i]] for i in range(len(prediction))]\n",
    "catategiry_id_test = [category_list2[id_test[i]] for i in range(len(id_test))]\n",
    "print('Test Accuracy:', accuracy_score(category_predict, catategiry_id_test))"
   ]
  },
  {
   "cell_type": "markdown",
   "metadata": {},
   "source": [
    "# Применение классификатора"
   ]
  },
  {
   "cell_type": "code",
   "execution_count": 12,
   "metadata": {},
   "outputs": [],
   "source": [
    "# Загружаем тестовый файл\n",
    "test_data = pd.read_csv('test.csv', sep = ',')"
   ]
  },
  {
   "cell_type": "code",
   "execution_count": 13,
   "metadata": {},
   "outputs": [],
   "source": [
    "# Достаем нужные значения \n",
    "title = test_data['title'].values\n",
    "price = test_data['price'].values\n",
    "item_id = test_data['item_id'].values"
   ]
  },
  {
   "cell_type": "code",
   "execution_count": 14,
   "metadata": {},
   "outputs": [],
   "source": [
    "# Применяем нашу модель\n",
    "price_prediction = randomforest.predict_proba(price.reshape(-1,1))\n",
    "title_prediction = pipeline.predict_proba(title)\n",
    "proba_prediction = price_prediction + 3*title_prediction"
   ]
  },
  {
   "cell_type": "code",
   "execution_count": 15,
   "metadata": {},
   "outputs": [],
   "source": [
    "result = [np.argmax(proba_prediction[i]) for i in range(0, proba_prediction.shape[0])]\n",
    "dict_result= {'item_id': item_id, 'category_id': result}\n",
    "df_result = pd.DataFrame.from_dict(dict_result)"
   ]
  },
  {
   "cell_type": "code",
   "execution_count": 27,
   "metadata": {},
   "outputs": [],
   "source": [
    "df_result.to_csv('result.csv', index = False)"
   ]
  }
 ],
 "metadata": {
  "kernelspec": {
   "display_name": "Python 3",
   "language": "python",
   "name": "python3"
  },
  "language_info": {
   "codemirror_mode": {
    "name": "ipython",
    "version": 3
   },
   "file_extension": ".py",
   "mimetype": "text/x-python",
   "name": "python",
   "nbconvert_exporter": "python",
   "pygments_lexer": "ipython3",
   "version": "3.7.1"
  }
 },
 "nbformat": 4,
 "nbformat_minor": 2
}
